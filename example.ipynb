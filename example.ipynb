{
 "cells": [
  {
   "cell_type": "code",
   "execution_count": 1,
   "metadata": {},
   "outputs": [],
   "source": [
    "from data.sklearn_newsgroups import fetch_newsgroups_data\n",
    "from not_word2vec import Embedding"
   ]
  },
  {
   "cell_type": "code",
   "execution_count": 2,
   "metadata": {},
   "outputs": [],
   "source": [
    "# get 1000 documents\n",
    "n_docs = 1000\n",
    "docs = fetch_newsgroups_data(n_docs=n_docs, clean=True)"
   ]
  },
  {
   "cell_type": "code",
   "execution_count": 3,
   "metadata": {},
   "outputs": [],
   "source": [
    "# build embedding into R^200 based on skipgrams with window length of 4\n",
    "skipgram_window_size = 4\n",
    "embedding_dimension = 200\n",
    "e = Embedding(skipgram_window_size, embedding_dimension)"
   ]
  },
  {
   "cell_type": "code",
   "execution_count": 4,
   "metadata": {},
   "outputs": [
    {
     "name": "stdout",
     "output_type": "stream",
     "text": [
      "CPU times: user 11.4 s, sys: 339 ms, total: 11.7 s\n",
      "Wall time: 8.55 s\n"
     ]
    }
   ],
   "source": [
    "%%time\n",
    "e = e.embed(docs)"
   ]
  },
  {
   "cell_type": "code",
   "execution_count": 5,
   "metadata": {},
   "outputs": [
    {
     "name": "stdout",
     "output_type": "stream",
     "text": [
      "Computed 200 dimensional embedding of vocabulary of size 14881\n"
     ]
    }
   ],
   "source": [
    "print 'Computed {} dimensional embedding of vocabulary of size {}'.format(embedding_dimension, e.vocab_len_)"
   ]
  },
  {
   "cell_type": "code",
   "execution_count": 6,
   "metadata": {},
   "outputs": [
    {
     "name": "stdout",
     "output_type": "stream",
     "text": [
      "Words similar to 'sportscenter':\n",
      "[u'showed', u'talk', u'important', u'baseball', u'basketball', u'news', u'ot', u'scores', u'stupid', u'football']\n"
     ]
    }
   ],
   "source": [
    "# search for words similar to 'sportscenter'\n",
    "search_key = 'sportscenter'\n",
    "similar_words = e.search(search_key, k=10)\n",
    "print 'Words similar to \\'{}\\':'.format(search_key)\n",
    "print similar_words"
   ]
  },
  {
   "cell_type": "code",
   "execution_count": 7,
   "metadata": {},
   "outputs": [
    {
     "name": "stdout",
     "output_type": "stream",
     "text": [
      "'sportscenter' - 'news' =\n",
      "[u'technology', u'right', u'kind', u'agree', u'resources']\n"
     ]
    }
   ],
   "source": [
    "# word difference \"analogy\"\n",
    "word1, word2 = ('sportscenter', 'news')\n",
    "word_diff = e.subtract(word1, word2)\n",
    "print '\\'{}\\' - \\'{}\\' ='.format(word1, word2)\n",
    "print word_diff"
   ]
  },
  {
   "cell_type": "code",
   "execution_count": null,
   "metadata": {},
   "outputs": [],
   "source": []
  }
 ],
 "metadata": {
  "kernelspec": {
   "display_name": "Python 2",
   "language": "python",
   "name": "python2"
  },
  "language_info": {
   "codemirror_mode": {
    "name": "ipython",
    "version": 2
   },
   "file_extension": ".py",
   "mimetype": "text/x-python",
   "name": "python",
   "nbconvert_exporter": "python",
   "pygments_lexer": "ipython2",
   "version": "2.7.10"
  }
 },
 "nbformat": 4,
 "nbformat_minor": 2
}
